{
 "cells": [
  {
   "cell_type": "code",
   "execution_count": 1,
   "id": "ed3e4bea",
   "metadata": {},
   "outputs": [
    {
     "name": "stdout",
     "output_type": "stream",
     "text": [
      "Enter a list of values separated by spaces: 3 5 7 2 6 5 7\n",
      "Mean: 5.0\n"
     ]
    }
   ],
   "source": [
    "#Mean\n",
    "\n",
    "def calculate_mean(data):\n",
    "    if len(data) == 0:\n",
    "        return None\n",
    "    \n",
    "    sum_values = 0\n",
    "    for value in data:\n",
    "        sum_values += value\n",
    "        \n",
    "    mean = sum_values / len(data)\n",
    "    return mean\n",
    "\n",
    "def main():\n",
    "    # Taking user input for a list of values\n",
    "    input_values = input(\"Enter a list of values separated by spaces: \")\n",
    "    # Converting the input string into a list of integers\n",
    "    data = list(map(int, input_values.split()))\n",
    "    # Calculating the mean\n",
    "    mean_value = calculate_mean(data)\n",
    "    # Displaying the result\n",
    "    print(f\"Mean: {mean_value}\")\n",
    "    \n",
    "if __name__ == \"__main__\":\n",
    "    main()\n",
    "\n",
    "\n"
   ]
  },
  {
   "cell_type": "code",
   "execution_count": 3,
   "id": "f834a993",
   "metadata": {},
   "outputs": [
    {
     "name": "stdout",
     "output_type": "stream",
     "text": [
      "Enter a list of values seperated by spaces: 3 6 1 5 12 4 67 9 4\n",
      "Median: 5\n"
     ]
    }
   ],
   "source": [
    "#Median\n",
    "\n",
    "def calculate_median(data):\n",
    "    sorted_data = sorted(data)\n",
    "    n = len(sorted_data)\n",
    "    if n % 2 == 0:\n",
    "        mid1 = sorted_data[n // 2-1]\n",
    "        mid2 = sorted_data[n // 2]\n",
    "        median = (mid1 + mid2) / 2\n",
    "    else:\n",
    "        median = sorted_data[n //2]\n",
    "    return median\n",
    "\n",
    "def main():\n",
    "    input_values = input(\"Enter a list of values seperated by spaces: \")\n",
    "    data = list(map(int, input_values.split()))\n",
    "    median_value = calculate_median(data)\n",
    "    print(f\"Median: {median_value}\")\n",
    "    \n",
    "if __name__ == \"__main__\":\n",
    "    main()"
   ]
  },
  {
   "cell_type": "code",
   "execution_count": 4,
   "id": "35c9dc29",
   "metadata": {},
   "outputs": [
    {
     "name": "stdout",
     "output_type": "stream",
     "text": [
      "Enter the list of values seperated by spaces: 3 4 4 5 2 5 7 3 4 \n",
      "Mode: [4]\n"
     ]
    }
   ],
   "source": [
    "# Mode\n",
    "\n",
    "def calculate_mode(data):\n",
    "    count = {}\n",
    "    for value in data:\n",
    "        count[value] = count.get(value, 0) + 1\n",
    "    max_count = max (count.values(),default=0)\n",
    "    mode_value = [key for key, value in count.items() if value ==max_count]\n",
    "    return mode_value\n",
    "\n",
    "def main():\n",
    "    input_values = input(\"Enter the list of values seperated by spaces: \")\n",
    "    data = list(map(int, input_values.split()))\n",
    "    mode_value = calculate_mode(data)\n",
    "    print(f\"Mode: {mode_value}\")\n",
    "    \n",
    "if __name__ == \"__main__\":\n",
    "    main()\n"
   ]
  },
  {
   "cell_type": "code",
   "execution_count": 2,
   "id": "0722f9ec",
   "metadata": {},
   "outputs": [
    {
     "name": "stdout",
     "output_type": "stream",
     "text": [
      "Enter number of elements : 7\n",
      "8\n",
      "9\n",
      "5\n",
      "6\n",
      "8\n",
      "5\n",
      "4\n",
      "Variance= 3.102040816326531\n",
      "std_deviation= 1.761261143705422\n"
     ]
    }
   ],
   "source": [
    "#standard deviation and variance\n",
    "\n",
    "def read():\n",
    "    a = []\n",
    "    n = int(input(\"Enter number of elements : \"))\n",
    "    for i in range(0, n):\n",
    "        l = float(input())\n",
    "        a.append(l)\n",
    "    return a\n",
    "def mean(x):\n",
    "    sum = 0\n",
    "    for i in range(0, len(x)):\n",
    "        sum = sum + x[i]\n",
    "    m = sum / len(x)\n",
    "    return m\n",
    "def SD(a):\n",
    "    m= mean(a)\n",
    "    x = 0\n",
    "    for i in range(len(a)):\n",
    "        x = x + (a[i] - m) ** 2\n",
    "    Std_Dev = (x / len(a)) ** .5\n",
    "    return Std_Dev\n",
    "y = read()\n",
    "print(\"Variance=\",SD(y)**2)\n",
    "print(\"std_deviation=\",SD(y))\n"
   ]
  },
  {
   "cell_type": "code",
   "execution_count": 3,
   "id": "2c96beeb",
   "metadata": {},
   "outputs": [
    {
     "name": "stdout",
     "output_type": "stream",
     "text": [
      "Enter number of elements : 5\n",
      "enter the data\n",
      "8\n",
      "4\n",
      "9\n",
      "2\n",
      "5\n",
      "sorted array: [2.0, 4.0, 5.0, 8.0, 9.0]\n",
      "range= 7.0\n",
      "Median = 5.0\n",
      "q1= 4.0\n",
      "q3= 9.0\n",
      "Inter quartile range= 5.0\n"
     ]
    }
   ],
   "source": [
    "# IQR\n",
    "\n",
    "def IQRange(a,n):\n",
    "    if n%2==0:\n",
    "        x=n//2\n",
    "        median=(a[x-1]+a[x])/2\n",
    "        q= ((x+1)//2)-1\n",
    "        q1= a[q]\n",
    "        q3= a[x+q]\n",
    "    else:\n",
    "        x= (n+1)//2-1\n",
    "        median = a[x]\n",
    "        y1 = []\n",
    "        for i in range (0,x):\n",
    "            y1.append(a[i])\n",
    "        q1 = y1[len(y1)//2]\n",
    "        y2 = []\n",
    "        for i in range (x+1,n):\n",
    "            y2.append(a[i])\n",
    "        q3 = y2[len(y2)//2]\n",
    "    print(\"Median =\",median)\n",
    "    print(\"q1=\",q1)\n",
    "    print(\"q3=\", q3)\n",
    "    IQR = q3-q1\n",
    "    return IQR\n",
    "a = []\n",
    "n = int(input(\"Enter number of elements : \"))\n",
    "print(\"enter the data\")\n",
    "for i in range(0, n):\n",
    "    l = float(input())\n",
    "    a.append(l)\n",
    "for i in range (0,len(a)):\n",
    "    for j in range (i+1,len(a)):\n",
    "        if a[i]>a[j]:\n",
    "            a[i], a[j] = a[j],a[i]\n",
    "print(\"sorted array:\",a)\n",
    "print(\"range=\",a[n-1]-a[0])\n",
    "print(\"Inter quartile range=\",IQRange(a,n))"
   ]
  },
  {
   "cell_type": "code",
   "execution_count": 6,
   "id": "d28185af",
   "metadata": {},
   "outputs": [
    {
     "name": "stdout",
     "output_type": "stream",
     "text": [
      "Enter a list of values separated by spaces: 3 4 5 6 7 8 9 \n",
      "Range: 6\n"
     ]
    }
   ],
   "source": [
    "#Find the range\n",
    "\n",
    "def calculate_range(data):\n",
    "    if not data:\n",
    "        return None\n",
    "    min_value = max_value = data[0]\n",
    "    for value in data[1:]:\n",
    "        if value < min_value:\n",
    "            min_value = value\n",
    "        elif value > max_value:\n",
    "            max_value = value\n",
    "    data_range = max_value - min_value\n",
    "    return data_range\n",
    "\n",
    "def main():\n",
    "    # Taking user input for a list of values\n",
    "    input_values = input(\"Enter a list of values separated by spaces: \")\n",
    "    # Converting the input string into a list of integers\n",
    "    data = list(map(int, input_values.split()))\n",
    "    # Calculating the range\n",
    "    data_range = calculate_range(data)\n",
    "    # Displaying the result\n",
    "    print(f\"Range: {data_range}\")\n",
    "    \n",
    "if __name__ == \"__main__\":\n",
    "    main()"
   ]
  },
  {
   "cell_type": "code",
   "execution_count": 3,
   "id": "e871fdc0",
   "metadata": {},
   "outputs": [
    {
     "name": "stdout",
     "output_type": "stream",
     "text": [
      "Enter number of elements : 5\n",
      "enter the data :\n",
      "1\n",
      "2\n",
      "3\n",
      "4\n",
      "5\n",
      "soted array [1.0, 2.0, 3.0, 4.0, 5.0]\n",
      "min max normalization [0.0, 0.25, 0.5, 0.75, 1.0]\n"
     ]
    }
   ],
   "source": [
    "# Do a min, max normalization\n",
    "\n",
    "def normalization(a):\n",
    "    new = []\n",
    "    for i in range (n):\n",
    "        x= (a[i]-a[0])/(a[n-1]-a[0])\n",
    "        new.append(x)\n",
    "    return new\n",
    "\n",
    "a = []\n",
    "n = int(input(\"Enter number of elements : \"))\n",
    "print(\"enter the data :\")\n",
    "for i in range(n):\n",
    "    l = float(input())\n",
    "    a.append(l)\n",
    "a.sort()\n",
    "print(\"soted array\", a)\n",
    "print(\"min max normalization\",normalization(a))"
   ]
  },
  {
   "cell_type": "code",
   "execution_count": null,
   "id": "0dd76824",
   "metadata": {},
   "outputs": [],
   "source": [
    "import pandas as pd\n",
    "import numpy as np\n",
    "import statistics as st\n",
    "df = pd.read_csv(\"C:/Users/ishit/Downloads/dataset.csv\")\n"
   ]
  },
  {
   "cell_type": "code",
   "execution_count": 9,
   "id": "74680fd3",
   "metadata": {},
   "outputs": [
    {
     "name": "stdout",
     "output_type": "stream",
     "text": [
      "Mean of Math:  67.05\n",
      "Mode of Math:  59\n",
      "Median of Math:  64.5\n",
      "Standard Deviation:  18.953825471392314\n",
      "Variance:  359.24750000000006\n",
      "IQR:  -6.0\n",
      "Range:  67\n"
     ]
    }
   ],
   "source": [
    "mean_value = np.mean(df.Math)\n",
    "print(\"Mean of Math: \",mean_value)\n",
    "\n",
    "mode_value = st.mode(df.Math)\n",
    "print(\"Mode of Math: \",mode_value)\n",
    "\n",
    "median_value = np.median(df.Math)\n",
    "print(\"Median of Math: \",median_value)\n",
    "\n",
    "standard_deviation = np.std(df.Math)\n",
    "print(\"Standard Deviation: \",standard_deviation)\n",
    "\n",
    "variance = np.var(df.Math)\n",
    "print(\"Variance: \",variance)\n",
    "\n",
    "# First quartile (Q1)\n",
    "Q1 = np.median(df.Math[:10])\n",
    "# Third quartile (Q3)\n",
    "Q3 = np.median(df.Math[10:])\n",
    "# Interquartile range (IQR)\n",
    "IQR = Q3 - Q1\n",
    "print(\"IQR: \",IQR)\n",
    "range = np.ptp(df.Math,axis=0)\n",
    "print(\"Range: \",range)\n"
   ]
  },
  {
   "cell_type": "code",
   "execution_count": null,
   "id": "e6075487",
   "metadata": {},
   "outputs": [],
   "source": []
  }
 ],
 "metadata": {
  "kernelspec": {
   "display_name": "Python 3",
   "language": "python",
   "name": "python3"
  },
  "language_info": {
   "codemirror_mode": {
    "name": "ipython",
    "version": 3
   },
   "file_extension": ".py",
   "mimetype": "text/x-python",
   "name": "python",
   "nbconvert_exporter": "python",
   "pygments_lexer": "ipython3",
   "version": "3.8.8"
  }
 },
 "nbformat": 4,
 "nbformat_minor": 5
}
