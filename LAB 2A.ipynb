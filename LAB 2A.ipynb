{
 "cells": [
  {
   "cell_type": "code",
   "execution_count": 2,
   "id": "a98ab311",
   "metadata": {},
   "outputs": [
    {
     "data": {
      "image/png": "[encoded data removed]",
      "text/plain": [
       "<Figure size 432x288 with 1 Axes>"
      ]
     },
     "metadata": {
      "needs_background": "light"
     },
     "output_type": "display_data"
    }
   ],
   "source": [
    "import numpy as np\n",
    "import pandas as pd\n",
    "import matplotlib.pyplot as plt\n",
    "\n",
    "df = pd.read_csv('C:/Users/ishit/Downloads/dataset.csv')\n",
    "\n",
    "def box_plot(a):                       # Function to draw a box plot\n",
    "    fig, ax = plt.subplots()           # Creating figure and axis\n",
    "\n",
    "    ax.boxplot(a)                     # Plotting box plot for each column\n",
    "\n",
    "    ax.set_xticklabels(['DBMS', 'Research_Methodology', 'DSA'])      # labelling\n",
    "    \n",
    "    ax.set_title('Box Plot for Students Marks')           # Set plot title and axis labels\n",
    "    ax.set_xlabel('Subjects')\n",
    "    ax.set_ylabel('Marks Scored')\n",
    "    plt.show()\n",
    "\n",
    "RM = df.Research_Methodology       # replacing data with our own dataset\n",
    "DBMS = df.DBMS\n",
    "DSA = df.DSA\n",
    "\n",
    "box_plot([DBMS, RM, DSA])     #Function calling"
   ]
  },
  {
   "cell_type": "code",
   "execution_count": 3,
   "id": "7dc3af0f",
   "metadata": {},
   "outputs": [
    {
     "name": "stdout",
     "output_type": "stream",
     "text": [
      "Manhattan Distance: 369\n"
     ]
    }
   ],
   "source": [
    "# Function to calculate Manhattan distance between two columns of data using a for loop\n",
    "\n",
    "def manhattan_distance(col1, col2):\n",
    "    \n",
    "    distance = 0    #initializing\n",
    "\n",
    "    for x, y in zip(DBMS, DSA):        # Calculating Manhattan distance using for loop\n",
    "        distance = distance + abs(x - y)\n",
    "\n",
    "    return distance\n",
    "\n",
    "DBMS = df.DBMS                        # replacing data with our own dataset\n",
    "DSA = df.DSA\n",
    "\n",
    "distance_result = manhattan_distance(DBMS, DSA) # function calling\n",
    "\n",
    "print(\"Manhattan Distance:\", distance_result)"
   ]
  },
  {
   "cell_type": "code",
   "execution_count": 6,
   "id": "94846444",
   "metadata": {},
   "outputs": [
    {
     "name": "stdout",
     "output_type": "stream",
     "text": [
      "Euclidean Distance: 98.88882646689666\n"
     ]
    }
   ],
   "source": [
    "# Function to calculate Euclidean distance between two columns of data using a for loop\n",
    "\n",
    "def euclidean_distance(col1, col2):\n",
    "    \n",
    "    if len(col1) != len(col2):\n",
    "        print(\"Error: The columns must have the same length.\")\n",
    "        return None\n",
    "\n",
    "    squared_diff_sum = 0               #initializing\n",
    "\n",
    "    for x, y in zip(col1, col2):                  # Calculating squared differences and then summing them up\n",
    "        squared_diff_sum += (x - y) ** 2\n",
    "\n",
    "    # Calculate the square root of the sum to get the Euclidean distance\n",
    "    distance = squared_diff_sum ** 0.5\n",
    "\n",
    "    return distance\n",
    "\n",
    "# Example input data (replace with your own data)\n",
    "DBMS = df.DBMS\n",
    "DSA= df.DSA\n",
    "\n",
    "# Call the function with the input data\n",
    "distance_result = euclidean_distance(DBMS, DSA)\n",
    "\n",
    "# Print the result\n",
    "print(\"Euclidean Distance:\", distance_result)"
   ]
  },
  {
   "cell_type": "code",
   "execution_count": null,
   "id": "c20e4882",
   "metadata": {},
   "outputs": [],
   "source": []
  }
 ],
 "metadata": {
  "kernelspec": {
   "display_name": "Python 3",
   "language": "python",
   "name": "python3"
  },
  "language_info": {
   "codemirror_mode": {
    "name": "ipython",
    "version": 3
   },
   "file_extension": ".py",
   "mimetype": "text/x-python",
   "name": "python",
   "nbconvert_exporter": "python",
   "pygments_lexer": "ipython3",
   "version": "3.8.8"
  }
 },
 "nbformat": 4,
 "nbformat_minor": 5
}
