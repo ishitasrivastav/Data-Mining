{
 "cells": [
  {
   "cell_type": "code",
   "execution_count": 15,
   "id": "e07b27e9",
   "metadata": {},
   "outputs": [],
   "source": [
    "import pandas as pd\n",
    "import numpy as np\n",
    "import matplotlib.pyplot as plt\n",
    "import seaborn as sns\n",
    "import glob\n"
   ]
  },
  {
   "cell_type": "code",
   "execution_count": 16,
   "id": "b3896628",
   "metadata": {},
   "outputs": [],
   "source": [
    "label_names = []\n",
    "texts = []\n",
    "\n",
    "for file_name in glob.glob(r\"C:\\Users\\ishit\\Downloads\\2367406_dataset\\bbc\\*\\*.txt\"):\n",
    "#     print(file_name)\n",
    "#     print(file_name.split('\\\\')[-2])\n",
    "    with open (file_name,'r') as f:\n",
    "        contents = f.readlines()\n",
    "        contents = [line for line in [line.strip() for line in contents] if not len(line) == 0]\n",
    "        for sentence in contents:\n",
    "            texts.append(sentence)\n",
    "            label_names.append(file_name.split('\\\\')[-2])"
   ]
  },
  {
   "cell_type": "code",
   "execution_count": 17,
   "id": "a5984c9a",
   "metadata": {},
   "outputs": [],
   "source": [
    "data_df = pd.DataFrame({\n",
    "    'text':texts,\n",
    "    'labels':label_names\n",
    "})"
   ]
  },
  {
   "cell_type": "code",
   "execution_count": 18,
   "id": "aafc8c46",
   "metadata": {},
   "outputs": [
    {
     "data": {
      "text/html": [
       "<div>\n",
       "<style scoped>\n",
       "    .dataframe tbody tr th:only-of-type {\n",
       "        vertical-align: middle;\n",
       "    }\n",
       "\n",
       "    .dataframe tbody tr th {\n",
       "        vertical-align: top;\n",
       "    }\n",
       "\n",
       "    .dataframe thead th {\n",
       "        text-align: right;\n",
       "    }\n",
       "</style>\n",
       "<table border=\"1\" class=\"dataframe\">\n",
       "  <thead>\n",
       "    <tr style=\"text-align: right;\">\n",
       "      <th></th>\n",
       "      <th>text</th>\n",
       "      <th>labels</th>\n",
       "    </tr>\n",
       "  </thead>\n",
       "  <tbody>\n",
       "    <tr>\n",
       "      <th>0</th>\n",
       "      <td>Ad sales boost Time Warner profit</td>\n",
       "      <td>business</td>\n",
       "    </tr>\n",
       "    <tr>\n",
       "      <th>1</th>\n",
       "      <td>Quarterly profits at US media giant TimeWarner...</td>\n",
       "      <td>business</td>\n",
       "    </tr>\n",
       "    <tr>\n",
       "      <th>2</th>\n",
       "      <td>The firm, which is now one of the biggest inve...</td>\n",
       "      <td>business</td>\n",
       "    </tr>\n",
       "    <tr>\n",
       "      <th>3</th>\n",
       "      <td>Time Warner said on Friday that it now owns 8%...</td>\n",
       "      <td>business</td>\n",
       "    </tr>\n",
       "    <tr>\n",
       "      <th>4</th>\n",
       "      <td>Time Warner's fourth quarter profits were slig...</td>\n",
       "      <td>business</td>\n",
       "    </tr>\n",
       "    <tr>\n",
       "      <th>...</th>\n",
       "      <td>...</td>\n",
       "      <td>...</td>\n",
       "    </tr>\n",
       "    <tr>\n",
       "      <th>12855</th>\n",
       "      <td>I bought the US version of World of Warcraft w...</td>\n",
       "      <td>tech</td>\n",
       "    </tr>\n",
       "    <tr>\n",
       "      <th>12856</th>\n",
       "      <td>Having played MMORPG games for some years I ag...</td>\n",
       "      <td>tech</td>\n",
       "    </tr>\n",
       "    <tr>\n",
       "      <th>12857</th>\n",
       "      <td>Unless there is undeniable medical proof that ...</td>\n",
       "      <td>tech</td>\n",
       "    </tr>\n",
       "    <tr>\n",
       "      <th>12858</th>\n",
       "      <td>These people are pathetic. They need to get of...</td>\n",
       "      <td>tech</td>\n",
       "    </tr>\n",
       "    <tr>\n",
       "      <th>12859</th>\n",
       "      <td>24hours, when i was a kid at school and i was ...</td>\n",
       "      <td>tech</td>\n",
       "    </tr>\n",
       "  </tbody>\n",
       "</table>\n",
       "<p>12860 rows × 2 columns</p>\n",
       "</div>"
      ],
      "text/plain": [
       "                                                    text    labels\n",
       "0                      Ad sales boost Time Warner profit  business\n",
       "1      Quarterly profits at US media giant TimeWarner...  business\n",
       "2      The firm, which is now one of the biggest inve...  business\n",
       "3      Time Warner said on Friday that it now owns 8%...  business\n",
       "4      Time Warner's fourth quarter profits were slig...  business\n",
       "...                                                  ...       ...\n",
       "12855  I bought the US version of World of Warcraft w...      tech\n",
       "12856  Having played MMORPG games for some years I ag...      tech\n",
       "12857  Unless there is undeniable medical proof that ...      tech\n",
       "12858  These people are pathetic. They need to get of...      tech\n",
       "12859  24hours, when i was a kid at school and i was ...      tech\n",
       "\n",
       "[12860 rows x 2 columns]"
      ]
     },
     "execution_count": 18,
     "metadata": {},
     "output_type": "execute_result"
    }
   ],
   "source": [
    "data_df"
   ]
  },
  {
   "cell_type": "code",
   "execution_count": 19,
   "id": "f3a9a4fb",
   "metadata": {},
   "outputs": [
    {
     "name": "stdout",
     "output_type": "stream",
     "text": [
      "<class 'pandas.core.frame.DataFrame'>\n",
      "RangeIndex: 12860 entries, 0 to 12859\n",
      "Data columns (total 2 columns):\n",
      " #   Column  Non-Null Count  Dtype \n",
      "---  ------  --------------  ----- \n",
      " 0   text    12860 non-null  object\n",
      " 1   labels  12860 non-null  object\n",
      "dtypes: object(2)\n",
      "memory usage: 201.1+ KB\n"
     ]
    }
   ],
   "source": [
    "data_df.info()"
   ]
  },
  {
   "cell_type": "code",
   "execution_count": 20,
   "id": "8630a8cc",
   "metadata": {},
   "outputs": [],
   "source": [
    "data_df.to_csv(\"domain_data.csv\")"
   ]
  },
  {
   "cell_type": "code",
   "execution_count": 21,
   "id": "d2dc4d59",
   "metadata": {},
   "outputs": [
    {
     "data": {
      "text/plain": [
       "'C:\\\\Users\\\\ishit\\\\DATA MINING AND VISUALIZATION'"
      ]
     },
     "execution_count": 21,
     "metadata": {},
     "output_type": "execute_result"
    }
   ],
   "source": [
    "pwd"
   ]
  },
  {
   "cell_type": "code",
   "execution_count": 22,
   "id": "631c2c63",
   "metadata": {},
   "outputs": [
    {
     "data": {
      "text/plain": [
       "array(['business', 'entertainment', 'politics', 'sport', 'tech'],\n",
       "      dtype=object)"
      ]
     },
     "execution_count": 22,
     "metadata": {},
     "output_type": "execute_result"
    }
   ],
   "source": [
    "data_df.labels.unique()"
   ]
  }
 ],
 "metadata": {
  "kernelspec": {
   "display_name": "Python 3",
   "language": "python",
   "name": "python3"
  },
  "language_info": {
   "codemirror_mode": {
    "name": "ipython",
    "version": 3
   },
   "file_extension": ".py",
   "mimetype": "text/x-python",
   "name": "python",
   "nbconvert_exporter": "python",
   "pygments_lexer": "ipython3",
   "version": "3.8.8"
  }
 },
 "nbformat": 4,
 "nbformat_minor": 5
}
