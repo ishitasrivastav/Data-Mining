{
 "cells": [
  {
   "cell_type": "code",
   "execution_count": 1,
   "id": "2dff4261",
   "metadata": {},
   "outputs": [
    {
     "data": {
      "text/html": [
       "<div>\n",
       "<style scoped>\n",
       "    .dataframe tbody tr th:only-of-type {\n",
       "        vertical-align: middle;\n",
       "    }\n",
       "\n",
       "    .dataframe tbody tr th {\n",
       "        vertical-align: top;\n",
       "    }\n",
       "\n",
       "    .dataframe thead th {\n",
       "        text-align: right;\n",
       "    }\n",
       "</style>\n",
       "<table border=\"1\" class=\"dataframe\">\n",
       "  <thead>\n",
       "    <tr style=\"text-align: right;\">\n",
       "      <th></th>\n",
       "      <th>T_ID</th>\n",
       "      <th>Item_set</th>\n",
       "    </tr>\n",
       "  </thead>\n",
       "  <tbody>\n",
       "    <tr>\n",
       "      <th>0</th>\n",
       "      <td>10</td>\n",
       "      <td>Milk,Bread,Biscuit</td>\n",
       "    </tr>\n",
       "    <tr>\n",
       "      <th>1</th>\n",
       "      <td>20</td>\n",
       "      <td>Bread,Milk,Biscuit,Cornflakes</td>\n",
       "    </tr>\n",
       "    <tr>\n",
       "      <th>2</th>\n",
       "      <td>30</td>\n",
       "      <td>Bread,Tea,Bournvita</td>\n",
       "    </tr>\n",
       "    <tr>\n",
       "      <th>3</th>\n",
       "      <td>40</td>\n",
       "      <td>Bread,Coffee,Bread,Milk</td>\n",
       "    </tr>\n",
       "    <tr>\n",
       "      <th>4</th>\n",
       "      <td>50</td>\n",
       "      <td>Coffee,Tea,Biscuit</td>\n",
       "    </tr>\n",
       "    <tr>\n",
       "      <th>5</th>\n",
       "      <td>60</td>\n",
       "      <td>Bread,Tea,Bournvita</td>\n",
       "    </tr>\n",
       "    <tr>\n",
       "      <th>6</th>\n",
       "      <td>70</td>\n",
       "      <td>Coffee,Tea,Cornflakes</td>\n",
       "    </tr>\n",
       "    <tr>\n",
       "      <th>7</th>\n",
       "      <td>80</td>\n",
       "      <td>Coffee,Bread,Tea,Biscuit</td>\n",
       "    </tr>\n",
       "    <tr>\n",
       "      <th>8</th>\n",
       "      <td>90</td>\n",
       "      <td>Tea,Coffee,Bread,Coffee</td>\n",
       "    </tr>\n",
       "    <tr>\n",
       "      <th>9</th>\n",
       "      <td>100</td>\n",
       "      <td>Bread,Milk</td>\n",
       "    </tr>\n",
       "    <tr>\n",
       "      <th>10</th>\n",
       "      <td>110</td>\n",
       "      <td>Coffee,Biscuit,Cornflakes</td>\n",
       "    </tr>\n",
       "    <tr>\n",
       "      <th>11</th>\n",
       "      <td>120</td>\n",
       "      <td>Bread,Biscuit,Cornflakes</td>\n",
       "    </tr>\n",
       "    <tr>\n",
       "      <th>12</th>\n",
       "      <td>130</td>\n",
       "      <td>Coffee,Sugar,Bournvita</td>\n",
       "    </tr>\n",
       "    <tr>\n",
       "      <th>13</th>\n",
       "      <td>140</td>\n",
       "      <td>Bread,Coffee,Butter</td>\n",
       "    </tr>\n",
       "    <tr>\n",
       "      <th>14</th>\n",
       "      <td>150</td>\n",
       "      <td>Bread,Sugar,Biscuit</td>\n",
       "    </tr>\n",
       "    <tr>\n",
       "      <th>15</th>\n",
       "      <td>160</td>\n",
       "      <td>Coffee,Sugar,Cornflakes</td>\n",
       "    </tr>\n",
       "    <tr>\n",
       "      <th>16</th>\n",
       "      <td>170</td>\n",
       "      <td>Bread,Sugar,Bournvita</td>\n",
       "    </tr>\n",
       "    <tr>\n",
       "      <th>17</th>\n",
       "      <td>180</td>\n",
       "      <td>Bread,Coffee,Sugar</td>\n",
       "    </tr>\n",
       "    <tr>\n",
       "      <th>18</th>\n",
       "      <td>190</td>\n",
       "      <td>Bread,Coffee,Sugar,Butter</td>\n",
       "    </tr>\n",
       "    <tr>\n",
       "      <th>19</th>\n",
       "      <td>200</td>\n",
       "      <td>Tea,Milk,Coffee,Cornflakes</td>\n",
       "    </tr>\n",
       "  </tbody>\n",
       "</table>\n",
       "</div>"
      ],
      "text/plain": [
       "    T_ID                       Item_set\n",
       "0     10             Milk,Bread,Biscuit\n",
       "1     20  Bread,Milk,Biscuit,Cornflakes\n",
       "2     30            Bread,Tea,Bournvita\n",
       "3     40        Bread,Coffee,Bread,Milk\n",
       "4     50             Coffee,Tea,Biscuit\n",
       "5     60            Bread,Tea,Bournvita\n",
       "6     70          Coffee,Tea,Cornflakes\n",
       "7     80       Coffee,Bread,Tea,Biscuit\n",
       "8     90        Tea,Coffee,Bread,Coffee\n",
       "9    100                     Bread,Milk\n",
       "10   110      Coffee,Biscuit,Cornflakes\n",
       "11   120       Bread,Biscuit,Cornflakes\n",
       "12   130         Coffee,Sugar,Bournvita\n",
       "13   140            Bread,Coffee,Butter\n",
       "14   150            Bread,Sugar,Biscuit\n",
       "15   160        Coffee,Sugar,Cornflakes\n",
       "16   170          Bread,Sugar,Bournvita\n",
       "17   180             Bread,Coffee,Sugar\n",
       "18   190      Bread,Coffee,Sugar,Butter\n",
       "19   200     Tea,Milk,Coffee,Cornflakes"
      ]
     },
     "execution_count": 1,
     "metadata": {},
     "output_type": "execute_result"
    }
   ],
   "source": [
    "import pandas as pd\n",
    "import numpy as np\n",
    "data = pd.read_csv(\"Dataset_lab4.csv\")\n",
    "data"
   ]
  },
  {
   "cell_type": "code",
   "execution_count": 2,
   "id": "f3789b87",
   "metadata": {},
   "outputs": [
    {
     "name": "stdout",
     "output_type": "stream",
     "text": [
      "['Milk', 'Bread', 'Biscuit']\n",
      "['Bread', 'Milk', 'Biscuit', 'Cornflakes']\n",
      "['Bread', 'Tea', 'Bournvita']\n",
      "['Bread', 'Coffee', 'Bread', 'Milk']\n",
      "['Coffee', 'Tea', 'Biscuit']\n",
      "['Bread', 'Tea', 'Bournvita']\n",
      "['Coffee', 'Tea', 'Cornflakes']\n",
      "['Coffee', 'Bread', 'Tea', 'Biscuit']\n",
      "['Tea', 'Coffee', 'Bread', 'Coffee']\n",
      "['Bread', 'Milk']\n",
      "['Coffee', 'Biscuit', 'Cornflakes']\n",
      "['Bread', 'Biscuit', 'Cornflakes']\n",
      "['Coffee', 'Sugar', 'Bournvita']\n",
      "['Bread', 'Coffee', 'Butter']\n",
      "['Bread', 'Sugar', 'Biscuit']\n",
      "['Coffee', 'Sugar', 'Cornflakes']\n",
      "['Bread', 'Sugar', 'Bournvita']\n",
      "['Bread', 'Coffee', 'Sugar']\n",
      "['Bread', 'Coffee', 'Sugar', 'Butter']\n",
      "['Tea', 'Milk', 'Coffee', 'Cornflakes']\n"
     ]
    }
   ],
   "source": [
    "data = {\"Item_set\" : [ \"Milk,Bread,Biscuit\",\"Bread,Milk,Biscuit,Cornflakes\",\"Bread,Tea,Bournvita\",\"Bread,Coffee,Bread,Milk\",\n",
    "    \"Coffee,Tea,Biscuit\",\"Bread,Tea,Bournvita\",\"Coffee,Tea,Cornflakes\",\"Coffee,Bread,Tea,Biscuit\",\"Tea,Coffee,Bread,Coffee\",\n",
    "    \"Bread,Milk\",\"Coffee,Biscuit,Cornflakes\",\"Bread,Biscuit,Cornflakes\",\"Coffee,Sugar,Bournvita\",\"Bread,Coffee,Butter\",\n",
    "    \"Bread,Sugar,Biscuit\",\"Coffee,Sugar,Cornflakes\",\"Bread,Sugar,Bournvita\",\"Bread,Coffee,Sugar\",\"Bread,Coffee,Sugar,Butter\",\n",
    "    \"Tea,Milk,Coffee,Cornflakes\"]}\n",
    "\n",
    "df = pd.DataFrame(data)\n",
    "\n",
    "# Split the 'Item set' column into a list of items\n",
    "df['Item_set'] = df['Item_set'].apply(lambda x: x.split(','))\n",
    "\n",
    "# Print the resulting list of dictionaries\n",
    "for transaction in df['Item_set']:\n",
    "    print(transaction)\n"
   ]
  },
  {
   "cell_type": "code",
   "execution_count": 3,
   "id": "814c2746",
   "metadata": {},
   "outputs": [
    {
     "name": "stdout",
     "output_type": "stream",
     "text": [
      "Collecting pyfpgrowth\n",
      "  Downloading pyfpgrowth-1.0.tar.gz (1.6 MB)\n",
      "Building wheels for collected packages: pyfpgrowth\n",
      "  Building wheel for pyfpgrowth (setup.py): started\n",
      "  Building wheel for pyfpgrowth (setup.py): finished with status 'done'\n",
      "  Created wheel for pyfpgrowth: filename=pyfpgrowth-1.0-py2.py3-none-any.whl size=5477 sha256=541476c7fc805c7bcda3cb6b7c49883aa04c20de6ce6a8f25ca64f63bc82f1ab\n",
      "  Stored in directory: c:\\users\\ishit\\appdata\\local\\pip\\cache\\wheels\\29\\e2\\a7\\ccb34c35e2c6737d3f09b53784f4323b7ff556a5f02096c70d\n",
      "Successfully built pyfpgrowth\n",
      "Installing collected packages: pyfpgrowth\n",
      "Successfully installed pyfpgrowth-1.0\n",
      "Note: you may need to restart the kernel to use updated packages.\n"
     ]
    }
   ],
   "source": [
    "pip install pyfpgrowth"
   ]
  },
  {
   "cell_type": "code",
   "execution_count": 7,
   "id": "417f915f",
   "metadata": {},
   "outputs": [],
   "source": [
    "import pyfpgrowth as fp"
   ]
  },
  {
   "cell_type": "code",
   "execution_count": 8,
   "id": "a4bfb196",
   "metadata": {},
   "outputs": [
    {
     "data": {
      "text/plain": [
       "{('Bournvita',): 4,\n",
       " ('Milk',): 5,\n",
       " ('Bread', 'Milk'): 5,\n",
       " ('Cornflakes',): 6,\n",
       " ('Coffee', 'Cornflakes'): 4,\n",
       " ('Coffee', 'Sugar'): 4,\n",
       " ('Bread', 'Sugar'): 4,\n",
       " ('Biscuit',): 7,\n",
       " ('Biscuit', 'Bread'): 5,\n",
       " ('Bread', 'Tea'): 4,\n",
       " ('Coffee', 'Tea'): 6,\n",
       " ('Coffee',): 13,\n",
       " ('Bread', 'Coffee'): 8,\n",
       " ('Bread',): 15}"
      ]
     },
     "execution_count": 8,
     "metadata": {},
     "output_type": "execute_result"
    }
   ],
   "source": [
    "#finding using support value 4\n",
    "patterns=fp.find_frequent_patterns(df['Item_set'],4)\n",
    "patterns"
   ]
  },
  {
   "cell_type": "code",
   "execution_count": 9,
   "id": "5b58e9af",
   "metadata": {},
   "outputs": [
    {
     "data": {
      "text/plain": [
       "{('Milk',): (('Bread',), 1.0),\n",
       " ('Cornflakes',): (('Coffee',), 0.6666666666666666),\n",
       " ('Biscuit',): (('Bread',), 0.7142857142857143),\n",
       " ('Bread',): (('Coffee',), 0.5333333333333333),\n",
       " ('Coffee',): (('Bread',), 0.6153846153846154)}"
      ]
     },
     "execution_count": 9,
     "metadata": {},
     "output_type": "execute_result"
    }
   ],
   "source": [
    "#finding using confidence value 50%\n",
    "rules=fp.generate_association_rules(patterns,0.5)\n",
    "rules"
   ]
  },
  {
   "cell_type": "code",
   "execution_count": null,
   "id": "4cd86b5a",
   "metadata": {},
   "outputs": [],
   "source": []
  }
 ],
 "metadata": {
  "kernelspec": {
   "display_name": "Python 3",
   "language": "python",
   "name": "python3"
  },
  "language_info": {
   "codemirror_mode": {
    "name": "ipython",
    "version": 3
   },
   "file_extension": ".py",
   "mimetype": "text/x-python",
   "name": "python",
   "nbconvert_exporter": "python",
   "pygments_lexer": "ipython3",
   "version": "3.8.8"
  }
 },
 "nbformat": 4,
 "nbformat_minor": 5
}
